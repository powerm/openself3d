{
 "cells": [
  {
   "cell_type": "markdown",
   "metadata": {},
   "source": [
    "# Example quantitative plots\n",
    "\n",
    "How to plot the results of the quantitative evaluation."
   ]
  },
  {
   "cell_type": "code",
   "execution_count": 4,
   "metadata": {},
   "outputs": [
    {
     "ename": "ModuleNotFoundError",
     "evalue": "No module named 'modules'",
     "output_type": "error",
     "traceback": [
      "\u001b[0;31m---------------------------------------------------------------------------\u001b[0m",
      "\u001b[0;31mModuleNotFoundError\u001b[0m                       Traceback (most recent call last)",
      "\u001b[0;32m<ipython-input-4-3c15ac9ccbc6>\u001b[0m in \u001b[0;36m<module>\u001b[0;34m\u001b[0m\n\u001b[1;32m      7\u001b[0m \u001b[0;32mimport\u001b[0m \u001b[0mmatplotlib\u001b[0m\u001b[0;34m.\u001b[0m\u001b[0mpyplot\u001b[0m \u001b[0;32mas\u001b[0m \u001b[0mplt\u001b[0m\u001b[0;34m\u001b[0m\u001b[0;34m\u001b[0m\u001b[0m\n\u001b[1;32m      8\u001b[0m \u001b[0;34m\u001b[0m\u001b[0m\n\u001b[0;32m----> 9\u001b[0;31m \u001b[0;32mimport\u001b[0m \u001b[0mmodules\u001b[0m\u001b[0;34m.\u001b[0m\u001b[0mutils\u001b[0m\u001b[0;34m.\u001b[0m\u001b[0mutils\u001b[0m \u001b[0;32mas\u001b[0m \u001b[0mutils\u001b[0m\u001b[0;34m\u001b[0m\u001b[0;34m\u001b[0m\u001b[0m\n\u001b[0m\u001b[1;32m     10\u001b[0m \u001b[0;31m# utils.add_dense_correspondence_to_python_path()\u001b[0m\u001b[0;34m\u001b[0m\u001b[0;34m\u001b[0m\u001b[0;34m\u001b[0m\u001b[0m\n\u001b[1;32m     11\u001b[0m \u001b[0;34m\u001b[0m\u001b[0m\n",
      "\u001b[0;31mModuleNotFoundError\u001b[0m: No module named 'modules'"
     ]
    }
   ],
   "source": [
    "import numpy as np\n",
    "import os\n",
    "import fnmatch\n",
    "import pandas as pd\n",
    "import sklearn.metrics as sm\n",
    "import scipy.stats as ss\n",
    "import matplotlib.pyplot as plt\n",
    "\n",
    "import modules.utils.utils as utils\n",
    "# utils.add_dense_correspondence_to_python_path()\n",
    "\n",
    "from dense_correspondence.evaluation.evaluation import DenseCorrespondenceEvaluationPlotter as DCEP"
   ]
  },
  {
   "cell_type": "markdown",
   "metadata": {},
   "source": [
    "If you have multiple networks trained, you can add them to the `nets_list` below, and they will be plotted together."
   ]
  },
  {
   "cell_type": "code",
   "execution_count": 5,
   "metadata": {},
   "outputs": [
    {
     "ename": "NameError",
     "evalue": "name 'utils' is not defined",
     "output_type": "error",
     "traceback": [
      "\u001b[0;31m---------------------------------------------------------------------------\u001b[0m",
      "\u001b[0;31mNameError\u001b[0m                                 Traceback (most recent call last)",
      "\u001b[0;32m<ipython-input-5-7fca6c56adb7>\u001b[0m in \u001b[0;36m<module>\u001b[0;34m\u001b[0m\n\u001b[1;32m      1\u001b[0m \u001b[0mfolder_name\u001b[0m \u001b[0;34m=\u001b[0m \u001b[0;34m\"tutorials\"\u001b[0m\u001b[0;34m\u001b[0m\u001b[0;34m\u001b[0m\u001b[0m\n\u001b[1;32m      2\u001b[0m \u001b[0mpath_to_nets\u001b[0m \u001b[0;34m=\u001b[0m \u001b[0mos\u001b[0m\u001b[0;34m.\u001b[0m\u001b[0mpath\u001b[0m\u001b[0;34m.\u001b[0m\u001b[0mjoin\u001b[0m\u001b[0;34m(\u001b[0m\u001b[0;34m\"code/data_volume/pdc/trained_models\"\u001b[0m\u001b[0;34m,\u001b[0m \u001b[0mfolder_name\u001b[0m\u001b[0;34m)\u001b[0m\u001b[0;34m\u001b[0m\u001b[0;34m\u001b[0m\u001b[0m\n\u001b[0;32m----> 3\u001b[0;31m \u001b[0mpath_to_nets\u001b[0m \u001b[0;34m=\u001b[0m \u001b[0mutils\u001b[0m\u001b[0;34m.\u001b[0m\u001b[0mconvert_to_absolute_path\u001b[0m\u001b[0;34m(\u001b[0m\u001b[0mpath_to_nets\u001b[0m\u001b[0;34m)\u001b[0m\u001b[0;34m\u001b[0m\u001b[0;34m\u001b[0m\u001b[0m\n\u001b[0m\u001b[1;32m      4\u001b[0m \u001b[0mall_nets\u001b[0m \u001b[0;34m=\u001b[0m \u001b[0msorted\u001b[0m\u001b[0;34m(\u001b[0m\u001b[0mos\u001b[0m\u001b[0;34m.\u001b[0m\u001b[0mlistdir\u001b[0m\u001b[0;34m(\u001b[0m\u001b[0mpath_to_nets\u001b[0m\u001b[0;34m)\u001b[0m\u001b[0;34m)\u001b[0m\u001b[0;34m\u001b[0m\u001b[0;34m\u001b[0m\u001b[0m\n\u001b[1;32m      5\u001b[0m \u001b[0mnets_to_plot\u001b[0m \u001b[0;34m=\u001b[0m \u001b[0;34m[\u001b[0m\u001b[0;34m]\u001b[0m\u001b[0;34m\u001b[0m\u001b[0;34m\u001b[0m\u001b[0m\n",
      "\u001b[0;31mNameError\u001b[0m: name 'utils' is not defined"
     ]
    }
   ],
   "source": [
    "folder_name = \"tutorials\"\n",
    "path_to_nets = os.path.join(\"code/data_volume/pdc/trained_models\", folder_name)\n",
    "path_to_nets = utils.convert_to_absolute_path(path_to_nets)\n",
    "all_nets = sorted(os.listdir(path_to_nets))\n",
    "nets_to_plot = []\n",
    "\n",
    "nets_list = [\"caterpillar_3\"]\n",
    "for net in nets_list:\n",
    "    nets_to_plot.append(os.path.join(folder_name,net))"
   ]
  },
  {
   "cell_type": "markdown",
   "metadata": {},
   "source": [
    "# Training \n",
    "Evaluate the network on the training scenes. Correspondences are all within scene"
   ]
  },
  {
   "cell_type": "code",
   "execution_count": null,
   "metadata": {},
   "outputs": [],
   "source": [
    "p = DCEP()\n",
    "dc_source_dir = utils.getDenseCorrespondenceSourceDir()\n",
    "\n",
    "network_name = nets_to_plot[0]\n",
    "path_to_csv = os.path.join(dc_source_dir, \"data_volume\", \"pdc\", \"trained_models\", network_name, \"analysis/train/data.csv\")\n",
    "fig_axes = DCEP.run_on_single_dataframe(path_to_csv, label=network_name, save=False)\n",
    "\n",
    "for network_name in nets_to_plot[1:]:\n",
    "    path_to_csv = os.path.join(dc_source_dir, \"data_volume\", \"pdc\", \"trained_models\", network_name, \"analysis/train/data.csv\")\n",
    "    fig_axes = DCEP.run_on_single_dataframe(path_to_csv, label=network_name, previous_fig_axes=fig_axes, save=False)\n",
    "\n",
    "_, axes = fig_axes\n",
    "# axes[0].set_title(\"Training Set\")\n",
    "plt.show()"
   ]
  },
  {
   "cell_type": "markdown",
   "metadata": {},
   "source": [
    "# Test\n",
    "Evaluate the network on the test scenes. Correspondences are all within scene"
   ]
  },
  {
   "cell_type": "code",
   "execution_count": null,
   "metadata": {},
   "outputs": [],
   "source": [
    "p = DCEP()\n",
    "dc_source_dir = utils.getDenseCorrespondenceSourceDir()\n",
    "\n",
    "network_name = nets_to_plot[0]\n",
    "path_to_csv = os.path.join(dc_source_dir, \"data_volume\", \"pdc\", \"trained_models\", network_name, \"analysis/test/data.csv\")\n",
    "fig_axes = DCEP.run_on_single_dataframe(path_to_csv, label=network_name, save=False)\n",
    "\n",
    "for network_name in nets_to_plot[1:]:\n",
    "    path_to_csv = os.path.join(dc_source_dir, \"data_volume\", \"pdc\", \"trained_models\", network_name, \"analysis/test/data.csv\")\n",
    "    fig_axes = DCEP.run_on_single_dataframe(path_to_csv, label=network_name, previous_fig_axes=fig_axes, save=False)\n",
    "\n",
    "_, axes = fig_axes\n",
    "# axes[0].set_title(\"Test Set\")\n",
    "plt.show()"
   ]
  },
  {
   "cell_type": "markdown",
   "metadata": {},
   "source": [
    "## Cross Scene Single Object\n",
    "Evaluate the network on correspondences that come from different scenes. These correspondences were manually annotated only for evaluation purposes."
   ]
  },
  {
   "cell_type": "code",
   "execution_count": null,
   "metadata": {},
   "outputs": [],
   "source": [
    "p = DCEP()\n",
    "dc_source_dir = utils.getDenseCorrespondenceSourceDir()\n",
    "\n",
    "network_name = nets_to_plot[0]\n",
    "path_to_csv = os.path.join(dc_source_dir, \"data_volume\", \"pdc\", \"trained_models\", network_name, \"analysis/cross_scene/data.csv\")\n",
    "fig_axes = DCEP.run_on_single_dataframe(path_to_csv, label=network_name, save=False)\n",
    "\n",
    "for network_name in nets_to_plot[1:]:\n",
    "    path_to_csv = os.path.join(dc_source_dir, \"data_volume\", \"pdc\", \"trained_models\", network_name, \"analysis/cross_scene/data.csv\")\n",
    "    fig_axes = DCEP.run_on_single_dataframe(path_to_csv, label=network_name, previous_fig_axes=fig_axes, save=False)\n",
    "\n",
    "_, axes = fig_axes\n",
    "# axes[0].set_title(\"Cross Scene Set\")\n",
    "plt.show()"
   ]
  }
 ],
 "metadata": {
  "kernelspec": {
   "display_name": "Python 3.8.3 64-bit ('base': conda)",
   "name": "python383jvsc74a57bd0649edb8f23d73f26dde118b080686493c32df3a040d7ae5087a1ff0f64daaf99"
  },
  "language_info": {
   "codemirror_mode": {
    "name": "ipython",
    "version": 3
   },
   "file_extension": ".py",
   "mimetype": "text/x-python",
   "name": "python",
   "nbconvert_exporter": "python",
   "pygments_lexer": "ipython3",
   "version": "3.8.3"
  },
  "orig_nbformat": 3
 },
 "nbformat": 4,
 "nbformat_minor": 2
}